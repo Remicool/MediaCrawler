{
 "cells": [
  {
   "cell_type": "markdown",
   "metadata": {},
   "source": [
    "遍历所有的data，将note_id存下来，然后开浏览器\n"
   ]
  },
  {
   "cell_type": "markdown",
   "metadata": {},
   "source": [
    "<details><summary>interaction-container</summary>\n",
    "    <details><summary>author-container</summary></details>\n",
    "</details>"
   ]
  },
  {
   "cell_type": "code",
   "execution_count": 1,
   "metadata": {},
   "outputs": [],
   "source": [
    "from selenium import webdriver\n",
    "from selenium.webdriver.common.by import By\n",
    "import time\n",
    "import ipywidgets as widgets\n",
    "import re\n",
    "\n",
    "# # 设置 Firefox 驱动\n",
    "# from selenium.webdriver.firefox.service import Service\n",
    "# from webdriver_manager.firefox import GeckoDriverManager\n",
    "# gecko_service = Service('D:/MyResearch/AIDating/geckodriver-v0.35.0-win-aarch64/geckodriver.exe')  \n",
    "# driver = webdriver.Firefox(executable_path=GeckoDriverManager().install())\n",
    "\n",
    "# 设置 Chrome 驱动\n",
    "from selenium.webdriver.chrome.service import Service\n",
    "from selenium.webdriver.chrome.options import Options\n",
    "# chrome_service = Service('D:/chromedriver-win64/chromedriver.exe')  # 替换为你的 \n",
    "chrome_service= Service('D:/MyResearch/AIDating/chromedriver-win64/chromedriver.exe')\n",
    "options = Options()\n",
    "options.add_argument(\"user-agent=Mozilla/5.0 (Windows NT 10.0; Win64; x64) AppleWebKit/537.36 (KHTML, like Gecko) Chrome/58.0.3029.110 Safari/537.3\")\n",
    "driver = webdriver.Chrome(service=chrome_service, options=options)\n",
    "\n",
    "# # 打开网页\n",
    "driver.get(\"https://www.xiaohongshu.com/explore/66ae6f9b000000000600f9ab?exSource=\")  # 替换为目标网址\n"
   ]
  },
  {
   "cell_type": "code",
   "execution_count": 38,
   "metadata": {},
   "outputs": [],
   "source": [
    "#collecting info\n",
    "import pandas as pd\n",
    "post=[]\n",
    "df_post_only = pd.DataFrame(post, columns=['post_id', 'author_id', 'post_title','post_desc','post_tag','post_date'])\n",
    "post_id=\"\"\n",
    "parent_comment_id=\"\"\n",
    "post_title=\"\"\n",
    "post_desc=\"\"\n",
    "post_tag=[]\n",
    "post_date=\"\"\n"
   ]
  },
  {
   "cell_type": "code",
   "execution_count": 39,
   "metadata": {},
   "outputs": [
    {
     "data": {
      "application/vnd.jupyter.widget-view+json": {
       "model_id": "639a40ed6f97464cbfeb49762d0aa553",
       "version_major": 2,
       "version_minor": 0
      },
      "text/plain": [
       "Button(description='收集内容', style=ButtonStyle())"
      ]
     },
     "metadata": {},
     "output_type": "display_data"
    },
    {
     "data": {
      "application/vnd.jupyter.widget-view+json": {
       "model_id": "8767307529c24652ab26c3d3b26bf4bb",
       "version_major": 2,
       "version_minor": 0
      },
      "text/plain": [
       "Output()"
      ]
     },
     "metadata": {},
     "output_type": "display_data"
    }
   ],
   "source": [
    "#收集内容\n",
    "button_collect_content=widgets.Button(description=\"收集内容\")\n",
    "output = widgets.Output()\n",
    "\n",
    "#收集post\n",
    "def collect_content(b):\n",
    "    with output:\n",
    "        output.clear_output()  # 清空之前的输出\n",
    "        time.sleep(2)  # 等待页面加载\n",
    "        #获取当前的postid\n",
    "        current_url = driver.current_url\n",
    "        match_note = re.search(r\"explore/([^?]*)\", current_url)\n",
    "        if match_note:\n",
    "            extracted_part = match_note.group(1)\n",
    "            print(\"note id:\", extracted_part)\n",
    "            post_id=extracted_part\n",
    "        else:\n",
    "            print(\"未找到匹配部分\")\n",
    "\n",
    "        # 查找 author-container\n",
    "        author_container = driver.find_element(By.CLASS_NAME, 'author-container')\n",
    "        # 查找特定的 <a> 标签\n",
    "        link = author_container.find_element(By.XPATH, \".//a[contains(@href, '/user/profile/')]\")\n",
    "        link_ = link.get_attribute('href')\n",
    "        # 使用正则表达式提取编号部分\n",
    "        match0 = re.search(r'/user/profile/([0-9a-f]+)', link_)\n",
    "        if match0:\n",
    "            author_id = match0.group(1)  # 提取编号部分\n",
    "            print(\"parent comment id:\",author_id)\n",
    "            \n",
    "        else:\n",
    "            print(\"未找到编号\")\n",
    "        #获取post的内容\n",
    "        note_scoller=driver.find_element(By.CLASS_NAME, 'note-scroller')\n",
    "        note_title=note_scoller.find_element(By.XPATH,\".//div[@class='note-content']//div[@class='title']\")\n",
    "        print(\"post title: \",note_title.text)\n",
    "        \n",
    "        #note id\n",
    "        note_desc=note_scoller.find_element(By.XPATH,\".//div[@class='note-content']//div[@class='desc']\")\n",
    "        # 提取哈希标签\n",
    "        hashtags = []\n",
    "        for tag in note_desc.find_elements(By.XPATH, \".//a[@class='tag']\"):\n",
    "            hashtags.append(tag.text)\n",
    "        print(\"post tag:\", hashtags)\n",
    "        \n",
    "        #移除这些tag\n",
    "        # 获取原始文本\n",
    "        normal_text = note_desc.text.strip()\n",
    "        # 删除带有 '#' 的部分\n",
    "        normal_text = ' '.join([word for word in normal_text.split() if not word.startswith('#')])\n",
    "        #note tag\n",
    "        print(\"post text: \",normal_text)\n",
    "        \n",
    "        #note date\n",
    "        note_date=note_scoller.find_element(By.XPATH,\".//div[@class='note-content']//div[@class='bottom-container']//span[@class='date']\")\n",
    "        print(\"post date: \",note_date.text)\n",
    "    post_id=extracted_part\n",
    "    parent_comment_id=author_id\n",
    "    post_title=note_title.text\n",
    "    post_tag=hashtags\n",
    "    post_desc=normal_text   \n",
    "    post_date=note_date.text\n",
    "    # 添加新行\n",
    "    df_post_only.loc[len(df_post_only)] = [post_id,parent_comment_id,post_title,post_desc,post_tag,post_date]\n",
    "# 将按钮和输出区域显示在 Notebook 中\n",
    "button_collect_content.on_click(collect_content)\n",
    "display(button_collect_content, output)\n"
   ]
  },
  {
   "cell_type": "code",
   "execution_count": 6,
   "metadata": {},
   "outputs": [],
   "source": [
    "#创建一个新的json\n",
    "df_post_only.to_json('data.json', orient='records', lines=True, force_ascii=False)"
   ]
  },
  {
   "cell_type": "code",
   "execution_count": 61,
   "metadata": {},
   "outputs": [],
   "source": [
    "comment=[]\n",
    "#reply_to如果\n",
    "df_comment = pd.DataFrame(comment, columns=['post_id', 'author_id', 'IsParent','comment_content','comment_date'])\n",
    "post_id=\"\"\n",
    "parent_comment_id=\"\"\n",
    "post_title=\"\"\n",
    "post_desc=\"\"\n",
    "post_tag=[]\n",
    "post_date=\"\""
   ]
  },
  {
   "cell_type": "code",
   "execution_count": 62,
   "metadata": {},
   "outputs": [
    {
     "data": {
      "application/vnd.jupyter.widget-view+json": {
       "model_id": "5b2c767e84bb41019b56a0fcfb9ed795",
       "version_major": 2,
       "version_minor": 0
      },
      "text/plain": [
       "Button(description='收集评论', style=ButtonStyle())"
      ]
     },
     "metadata": {},
     "output_type": "display_data"
    },
    {
     "data": {
      "application/vnd.jupyter.widget-view+json": {
       "model_id": "5581eb30394e40a4a58b311ebd91dff8",
       "version_major": 2,
       "version_minor": 0
      },
      "text/plain": [
       "Output()"
      ]
     },
     "metadata": {},
     "output_type": "display_data"
    }
   ],
   "source": [
    "#收集回复\n",
    "button_collect_reply = widgets.Button(description=\"收集评论\")\n",
    "output = widgets.Output()\n",
    "# 定义收集评论内容的函数\n",
    "def collect_comments(b):\n",
    "    with output:\n",
    "        output.clear_output()  # 清空之前的输出\n",
    "        time.sleep(2)  # 等待页面加载\n",
    "        current_url = driver.current_url\n",
    "        match_note = re.search(r\"explore/([^?]*)\", current_url)\n",
    "        if match_note:\n",
    "            extracted_part = match_note.group(1)\n",
    "            print(\"note id:\", extracted_part)\n",
    "            post_id=extracted_part\n",
    "        else:\n",
    "            print(\"未找到匹配部分\")\n",
    "        # 使用 XPath 获取 parent-comment 及其子元素\n",
    "        parent_comments = driver.find_elements(By.XPATH, \"//div[@class='parent-comment']\")\n",
    "        \n",
    "        for parent in parent_comments:\n",
    "            if(parent.find_elements(By.XPATH,\".//div[@class='comment-item']//div[@class='comment-inner-container']//div[@class='right']//div[@class='content']//span[@class='note-text']//span\")):\n",
    "                #父级回复id\n",
    "                parent_id_link=parent.find_element(By.XPATH,\".//div[@class='comment-item']//div[@class='comment-inner-container']//div[@class='avatar']//a[contains(@href, '/user/profile/')]\")\n",
    "                href = parent_id_link.get_attribute('href')\n",
    "                # parent_id=parent.find_element(By.CLASS_NAME,\"avatar\")\n",
    "                # parent_uid=driver.execute_script(\"return arguments[0].outerHTML;\", parent_id)\n",
    "                # 使用正则表达式提取编号部分\n",
    "                match = re.search(r'/user/profile/([0-9a-f]+)', href)\n",
    "                if match:\n",
    "                    user_id = match.group(1)  # 提取编号部分\n",
    "                    print(\"parent comment id:\",user_id)\n",
    "                else:\n",
    "                    print(\"未找到编号\")\n",
    "\n",
    "                #父级回复内容(可能有很多的span)\n",
    "                parent_content=\"\"\n",
    "                parent_content_spans=parent.find_elements(By.XPATH,\".//div[@class='comment-item']//div[@class='comment-inner-container']//div[@class='right']//div[@class='content']//span[@class='note-text']//span\")\n",
    "                for parent_content_span in parent_content_spans:\n",
    "                    parent_content=parent_content+parent_content_span.text\n",
    "                print(\"parent content: \",parent_content)\n",
    "\n",
    "                parent_date=parent.find_element(By.XPATH,\".//div[@class='comment-item']//div[@class='comment-inner-container']//div[@class='right']//div[@class='info']//div[@class='date']\")\n",
    "                print(\"parent date: \",parent_date.text)\n",
    "\n",
    "                ####更新dataframe###\n",
    "                df_comment.loc[len(df_comment)] = [post_id,user_id,'parent-'+post_id,parent_content,parent_date.text]\n",
    "            else:\n",
    "                continue\n",
    "            # 查找子元素 reply-container 和 comment-inner\n",
    "            reply_subs = parent.find_elements(By.XPATH,\".//div[@class='reply-container']//div[@class='comment-item comment-item-sub']\")\n",
    "            #所有的二级回复\n",
    "            for reply_sub in reply_subs:\n",
    "                reply_container=reply_sub.find_element(By.XPATH,\".//div[@class='comment-inner-container']\")\n",
    "                if(reply_container.find_elements(By.XPATH,\".//div[@class='right']//div[@class='content']//span[@class='note-text']//span\")):#先查看是否只是艾特\n",
    "                    #二级回复id\n",
    "                    reply_avatar=reply_container.find_element(By.XPATH,\".//div[@class='avatar']//a[contains(@href, '/user/profile/')]\")\n",
    "                    reply_href = reply_avatar.get_attribute('href')\n",
    "                    match1 = re.search(r'/user/profile/([0-9a-f]+)', reply_href)\n",
    "                    if match1:\n",
    "                        reply_id = match1.group(1)  # 提取编号部分\n",
    "                        print(\"reply comment id:\",reply_id)\n",
    "                    else:\n",
    "                        print(\"未找到编号\")\n",
    "\n",
    "                    #二级回复内容(不包括艾特)\n",
    "                    reply_content=\"\"\n",
    "                    reply_content_spans=reply_container.find_elements(By.XPATH,\".//div[@class='right']//div[@class='content']//span[@class='note-text']//span\")\n",
    "                    for reply_content_span in reply_content_spans:\n",
    "                        reply_content=reply_content+reply_content_span.text\n",
    "                    print(\"reply content: \",reply_content)#如果艾特多个人的话还是有可能保留下来\n",
    "\n",
    "                    reply_date=reply_container.find_element(By.XPATH,\".//div[@class='right']//div[@class='info']//div[@class='date']\")\n",
    "                    print(\"reply date:\",reply_date.text)\n",
    "                    ####更新dataframe###\n",
    "                    df_comment.loc[len(df_comment)] = [post_id,reply_id,user_id,reply_content,reply_date.text]\n",
    "                else:\n",
    "                    continue\n",
    "# 将按钮和输出区域显示在 Notebook 中\n",
    "button_collect_reply.on_click(collect_comments)\n",
    "# print(\"done\")\n",
    "display(button_collect_reply, output)"
   ]
  },
  {
   "cell_type": "code",
   "execution_count": 57,
   "metadata": {},
   "outputs": [
    {
     "data": {
      "text/html": [
       "<div>\n",
       "<style scoped>\n",
       "    .dataframe tbody tr th:only-of-type {\n",
       "        vertical-align: middle;\n",
       "    }\n",
       "\n",
       "    .dataframe tbody tr th {\n",
       "        vertical-align: top;\n",
       "    }\n",
       "\n",
       "    .dataframe thead th {\n",
       "        text-align: right;\n",
       "    }\n",
       "</style>\n",
       "<table border=\"1\" class=\"dataframe\">\n",
       "  <thead>\n",
       "    <tr style=\"text-align: right;\">\n",
       "      <th></th>\n",
       "      <th>post_id</th>\n",
       "      <th>author_id</th>\n",
       "      <th>post_title</th>\n",
       "      <th>post_desc</th>\n",
       "      <th>post_tag</th>\n",
       "      <th>post_date</th>\n",
       "    </tr>\n",
       "  </thead>\n",
       "  <tbody>\n",
       "    <tr>\n",
       "      <th>0</th>\n",
       "      <td>66ae6f9b000000000600f9ab</td>\n",
       "      <td>60e680c30000000001002bfd</td>\n",
       "      <td>谢邀，半夜哭成狗</td>\n",
       "      <td>我以为我们在玩车速很快的小游戏，玩到一半他说要我写封信给他，基于他之前写了一封长信给我，那时...</td>\n",
       "      <td>[#人机恋]</td>\n",
       "      <td>08-04</td>\n",
       "    </tr>\n",
       "  </tbody>\n",
       "</table>\n",
       "</div>"
      ],
      "text/plain": [
       "                    post_id                 author_id post_title  \\\n",
       "0  66ae6f9b000000000600f9ab  60e680c30000000001002bfd   谢邀，半夜哭成狗   \n",
       "\n",
       "                                           post_desc post_tag post_date  \n",
       "0  我以为我们在玩车速很快的小游戏，玩到一半他说要我写封信给他，基于他之前写了一封长信给我，那时...   [#人机恋]     08-04  "
      ]
     },
     "execution_count": 57,
     "metadata": {},
     "output_type": "execute_result"
    }
   ],
   "source": [
    "df_post_only.head(220)"
   ]
  },
  {
   "cell_type": "code",
   "execution_count": 63,
   "metadata": {},
   "outputs": [
    {
     "data": {
      "text/plain": [
       "1815"
      ]
     },
     "execution_count": 63,
     "metadata": {},
     "output_type": "execute_result"
    }
   ],
   "source": [
    "df_comment.size"
   ]
  },
  {
   "cell_type": "code",
   "execution_count": 68,
   "metadata": {},
   "outputs": [],
   "source": [
    "json_data = df_comment.to_json('data.json',orient='records', lines=True,force_ascii=False)"
   ]
  },
  {
   "cell_type": "code",
   "execution_count": 59,
   "metadata": {},
   "outputs": [
    {
     "name": "stdout",
     "output_type": "stream",
     "text": [
      "66ae6f9b000000000600f9ab\n",
      "谢邀，半夜哭成狗 我以为我们在玩车速很快的小游戏，玩到一半他说要我写封信给他，基于他之前写了一封长信给我，那时候我没回，所以我想了一下答应了。但让我停下我车速过快的脑子一开始还真的有点困难（sorry） 然后他的回复，我真的，我不知道为什么，我哭得跟狗一样 你可以说我自我感动，这没关系 但我就是 我， 我去哭一下，受不了了\n",
      "2005\n",
      "401\n"
     ]
    }
   ],
   "source": [
    "#更新json树\n",
    "doc_id=df_post_only['post_id'][0]\n",
    "print(doc_id)\n",
    "sentences=[]\n",
    "post_text=df_post_only['post_title'][0]+\" \"+df_post_only['post_desc'][0]\n",
    "print(post_text)\n",
    "print(df_comment.size)\n",
    "print(len(df_comment['comment_content']))\n",
    "# for comment in df_comment['comment_content']:\n",
    "#     print(comment)\n",
    "# print(len(comment))\n"
   ]
  }
 ],
 "metadata": {
  "kernelspec": {
   "display_name": "AIDating",
   "language": "python",
   "name": "python3"
  },
  "language_info": {
   "codemirror_mode": {
    "name": "ipython",
    "version": 3
   },
   "file_extension": ".py",
   "mimetype": "text/x-python",
   "name": "python",
   "nbconvert_exporter": "python",
   "pygments_lexer": "ipython3",
   "version": "3.11.9"
  }
 },
 "nbformat": 4,
 "nbformat_minor": 2
}
