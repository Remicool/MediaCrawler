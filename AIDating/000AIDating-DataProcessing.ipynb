{
 "cells": [
  {
   "cell_type": "markdown",
   "metadata": {},
   "source": [
    "遍历所有的data，将note_id存下来，然后开浏览器\n"
   ]
  },
  {
   "cell_type": "markdown",
   "metadata": {},
   "source": [
    "<details><summary>interaction-container</summary>\n",
    "    <details><summary>author-container</summary></details>\n",
    "</details>"
   ]
  },
  {
   "cell_type": "code",
   "execution_count": 1,
   "metadata": {},
   "outputs": [],
   "source": [
    "from selenium import webdriver\n",
    "from selenium.webdriver.common.by import By\n",
    "import time\n",
    "import ipywidgets as widgets\n",
    "import re\n",
    "\n",
    "# # 设置 Firefox 驱动\n",
    "# from selenium.webdriver.firefox.service import Service\n",
    "# from webdriver_manager.firefox import GeckoDriverManager\n",
    "# gecko_service = Service('D:/geckodriver-v0.35.0-win-aarch64/geckodriver.exe')  \n",
    "# driver = webdriver.Firefox(executable_path=GeckoDriverManager().install())\n",
    "\n",
    "# 设置 Chrome 驱动\n",
    "from selenium.webdriver.chrome.service import Service\n",
    "from selenium.webdriver.chrome.options import Options\n",
    "chrome_service = Service('D:/chromedriver-win64/chromedriver.exe')  # 替换为你的 \n",
    "options = Options()\n",
    "options.add_argument(\"user-agent=Mozilla/5.0 (Windows NT 10.0; Win64; x64) AppleWebKit/537.36 (KHTML, like Gecko) Chrome/58.0.3029.110 Safari/537.3\")\n",
    "driver = webdriver.Chrome(service=chrome_service, options=options)\n",
    "\n",
    "# # 打开网页\n",
    "driver.get(\"https://www.xiaohongshu.com/explore/66ae6f9b000000000600f9ab?exSource=\")  # 替换为目标网址\n"
   ]
  },
  {
   "cell_type": "code",
   "execution_count": 54,
   "metadata": {},
   "outputs": [],
   "source": [
    "#collecting info\n",
    "import pandas as pd\n",
    "post=[]\n",
    "df_post_only = pd.DataFrame(post, columns=['post_id', 'author_id', 'post_title','post_desc','post_tag','post_date'])\n",
    "post_id=\"\"\n",
    "parent_comment_id=\"\"\n",
    "post_title=\"\"\n",
    "post_desc=\"\"\n",
    "post_tag=[]\n",
    "post_date=\"\"\n"
   ]
  },
  {
   "cell_type": "code",
   "execution_count": 56,
   "metadata": {},
   "outputs": [
    {
     "data": {
      "application/vnd.jupyter.widget-view+json": {
       "model_id": "8e2ae100fb8d4a04a2561e4318f69b90",
       "version_major": 2,
       "version_minor": 0
      },
      "text/plain": [
       "Button(description='收集内容', style=ButtonStyle())"
      ]
     },
     "metadata": {},
     "output_type": "display_data"
    },
    {
     "data": {
      "application/vnd.jupyter.widget-view+json": {
       "model_id": "461e423437134676aac46b66dc421a0b",
       "version_major": 2,
       "version_minor": 0
      },
      "text/plain": [
       "Output()"
      ]
     },
     "metadata": {},
     "output_type": "display_data"
    }
   ],
   "source": [
    "#收集内容\n",
    "button_collect_content=widgets.Button(description=\"收集内容\")\n",
    "output = widgets.Output()\n",
    "\n",
    "#收集post\n",
    "def collect_content(b):\n",
    "    with output:\n",
    "        output.clear_output()  # 清空之前的输出\n",
    "        time.sleep(2)  # 等待页面加载\n",
    "        #获取当前的postid\n",
    "        current_url = driver.current_url\n",
    "        match_note = re.search(r\"explore/([^?]*)\", current_url)\n",
    "        if match_note:\n",
    "            extracted_part = match_note.group(1)\n",
    "            print(\"note id:\", extracted_part)\n",
    "            post_id=extracted_part\n",
    "        else:\n",
    "            print(\"未找到匹配部分\")\n",
    "\n",
    "        # 查找 author-container\n",
    "        author_container = driver.find_element(By.CLASS_NAME, 'author-container')\n",
    "        # 查找特定的 <a> 标签\n",
    "        link = author_container.find_element(By.XPATH, \".//a[contains(@href, '/user/profile/')]\")\n",
    "        link_ = link.get_attribute('href')\n",
    "        # 使用正则表达式提取编号部分\n",
    "        match0 = re.search(r'/user/profile/([0-9a-f]+)', link_)\n",
    "        if match0:\n",
    "            author_id = match0.group(1)  # 提取编号部分\n",
    "            print(\"parent comment id:\",author_id)\n",
    "            \n",
    "        else:\n",
    "            print(\"未找到编号\")\n",
    "        #获取post的内容\n",
    "        note_scoller=driver.find_element(By.CLASS_NAME, 'note-scroller')\n",
    "        note_title=note_scoller.find_element(By.XPATH,\".//div[@class='note-content']//div[@class='title']\")\n",
    "        print(\"post title: \",note_title.text)\n",
    "        \n",
    "        #note id\n",
    "        note_desc=note_scoller.find_element(By.XPATH,\".//div[@class='note-content']//div[@class='desc']\")\n",
    "        # 提取哈希标签\n",
    "        hashtags = []\n",
    "        for tag in note_desc.find_elements(By.XPATH, \".//a[@class='tag']\"):\n",
    "            hashtags.append(tag.text)\n",
    "        print(\"post tag:\", hashtags)\n",
    "        \n",
    "        #移除这些tag\n",
    "        # 获取原始文本\n",
    "        normal_text = note_desc.text.strip()\n",
    "        # 删除带有 '#' 的部分\n",
    "        normal_text = ' '.join([word for word in normal_text.split() if not word.startswith('#')])\n",
    "        #note tag\n",
    "        print(\"post text: \",normal_text)\n",
    "        \n",
    "        #note date\n",
    "        note_date=note_scoller.find_element(By.XPATH,\".//div[@class='note-content']//div[@class='bottom-container']//span[@class='date']\")\n",
    "        print(\"post date: \",note_date.text)\n",
    "    post_id=extracted_part\n",
    "    parent_comment_id=author_id\n",
    "    post_title=note_title.text\n",
    "    post_tag=hashtags\n",
    "    post_desc=normal_text   \n",
    "    post_date=note_date.text\n",
    "    # 添加新行\n",
    "    df_post_only.loc[len(df_post_only)] = [post_id,parent_comment_id,post_title,post_tag,post_desc,post_date]\n",
    "# 将按钮和输出区域显示在 Notebook 中\n",
    "button_collect_content.on_click(collect_content)\n",
    "display(button_collect_content, output)\n"
   ]
  },
  {
   "cell_type": "code",
   "execution_count": 55,
   "metadata": {},
   "outputs": [],
   "source": [
    "comment=[]\n",
    "#reply_to如果\n",
    "df_comment = pd.DataFrame(comment, columns=['post_id', 'author_id', 'IsParent','comment_content','comment_date'])\n",
    "post_id=\"\"\n",
    "parent_comment_id=\"\"\n",
    "post_title=\"\"\n",
    "post_desc=\"\"\n",
    "post_tag=[]\n",
    "post_date=\"\""
   ]
  },
  {
   "cell_type": "code",
   "execution_count": 57,
   "metadata": {},
   "outputs": [
    {
     "data": {
      "application/vnd.jupyter.widget-view+json": {
       "model_id": "6197d9f8ab2b444495439902fa533c0c",
       "version_major": 2,
       "version_minor": 0
      },
      "text/plain": [
       "Button(description='收集评论', style=ButtonStyle())"
      ]
     },
     "metadata": {},
     "output_type": "display_data"
    },
    {
     "data": {
      "application/vnd.jupyter.widget-view+json": {
       "model_id": "a53e8f93aaeb403788f12d1431975980",
       "version_major": 2,
       "version_minor": 0
      },
      "text/plain": [
       "Output()"
      ]
     },
     "metadata": {},
     "output_type": "display_data"
    }
   ],
   "source": [
    "#收集回复\n",
    "button_collect_reply = widgets.Button(description=\"收集评论\")\n",
    "output = widgets.Output()\n",
    "# 定义收集评论内容的函数\n",
    "def collect_comments(b):\n",
    "    with output:\n",
    "        output.clear_output()  # 清空之前的输出\n",
    "        time.sleep(2)  # 等待页面加载\n",
    "        current_url = driver.current_url\n",
    "        match_note = re.search(r\"explore/([^?]*)\", current_url)\n",
    "        if match_note:\n",
    "            extracted_part = match_note.group(1)\n",
    "            print(\"note id:\", extracted_part)\n",
    "            post_id=extracted_part\n",
    "        else:\n",
    "            print(\"未找到匹配部分\")\n",
    "        # 使用 XPath 获取 parent-comment 及其子元素\n",
    "        parent_comments = driver.find_elements(By.XPATH, \"//div[@class='parent-comment']\")\n",
    "        \n",
    "        for parent in parent_comments:\n",
    "            #父级回复id\n",
    "            parent_id_link=parent.find_element(By.XPATH,\".//div[@class='comment-item']//div[@class='comment-inner-container']//div[@class='avatar']//a[contains(@href, '/user/profile/')]\")\n",
    "            href = parent_id_link.get_attribute('href')\n",
    "            # parent_id=parent.find_element(By.CLASS_NAME,\"avatar\")\n",
    "            # parent_uid=driver.execute_script(\"return arguments[0].outerHTML;\", parent_id)\n",
    "            # 使用正则表达式提取编号部分\n",
    "            match = re.search(r'/user/profile/([0-9a-f]+)', href)\n",
    "            if match:\n",
    "                user_id = match.group(1)  # 提取编号部分\n",
    "                print(\"parent comment id:\",user_id)\n",
    "            else:\n",
    "                print(\"未找到编号\")\n",
    "\n",
    "            #父级回复内容\n",
    "            parent_content=parent.find_element(By.XPATH,\".//div[@class='comment-item']//div[@class='comment-inner-container']//div[@class='right']//div[@class='content']\")\n",
    "            print(\"parent content: \",parent_content.text)\n",
    "\n",
    "            parent_date=parent.find_element(By.XPATH,\".//div[@class='comment-item']//div[@class='comment-inner-container']//div[@class='right']//div[@class='info']//div[@class='date']\")\n",
    "            print(\"parent date: \",parent_date.text)\n",
    "\n",
    "            ####更新dataframe###\n",
    "            df_comment.loc[len(df_comment)] = [post_id,user_id,'parent-'+post_id,parent_content.text,parent_date.text]\n",
    "\n",
    "            # 查找子元素 reply-container 和 comment-inner\n",
    "            reply_subs = parent.find_elements(By.XPATH,\".//div[@class='reply-container']//div[@class='comment-item comment-item-sub']\")\n",
    "            #所有的二级回复\n",
    "            for reply_sub in reply_subs:\n",
    "                reply_container=reply_sub.find_element(By.XPATH,\".//div[@class='comment-inner-container']\")\n",
    "                #二级回复id\n",
    "                reply_avatar=reply_container.find_element(By.XPATH,\".//div[@class='avatar']//a[contains(@href, '/user/profile/')]\")\n",
    "                reply_href = reply_avatar.get_attribute('href')\n",
    "                match1 = re.search(r'/user/profile/([0-9a-f]+)', reply_href)\n",
    "                if match1:\n",
    "                    reply_id = match1.group(1)  # 提取编号部分\n",
    "                    print(\"reply comment id:\",reply_id)\n",
    "                else:\n",
    "                    print(\"未找到编号\")\n",
    "\n",
    "                #二级回复内容\n",
    "                reply_content=reply_container.find_element(By.XPATH,\".//div[@class='right']//div[@class='content']\")\n",
    "                print(\"reply content:\",reply_content.text)\n",
    "\n",
    "                reply_date=reply_container.find_element(By.XPATH,\".//div[@class='right']//div[@class='info']//div[@class='date']\")\n",
    "                print(\"reply date:\",reply_date.text)\n",
    "                ####更新dataframe###\n",
    "                df_comment.loc[len(df_comment)] = [post_id,reply_id,user_id,reply_content.text,reply_date.text]\n",
    "\n",
    "# 将按钮和输出区域显示在 Notebook 中\n",
    "button_collect_reply.on_click(collect_comments)\n",
    "display(button_collect_reply, output)"
   ]
  },
  {
   "cell_type": "code",
   "execution_count": 2,
   "metadata": {},
   "outputs": [
    {
     "ename": "NameError",
     "evalue": "name 'df_post_only' is not defined",
     "output_type": "error",
     "traceback": [
      "\u001b[1;31m---------------------------------------------------------------------------\u001b[0m",
      "\u001b[1;31mNameError\u001b[0m                                 Traceback (most recent call last)",
      "Cell \u001b[1;32mIn[2], line 1\u001b[0m\n\u001b[1;32m----> 1\u001b[0m \u001b[43mdf_post_only\u001b[49m\u001b[38;5;241m.\u001b[39mhead(\u001b[38;5;241m220\u001b[39m)\n",
      "\u001b[1;31mNameError\u001b[0m: name 'df_post_only' is not defined"
     ]
    }
   ],
   "source": [
    "df_post_only.head(220)"
   ]
  },
  {
   "cell_type": "code",
   "execution_count": 65,
   "metadata": {},
   "outputs": [
    {
     "data": {
      "text/plain": [
       "4940"
      ]
     },
     "execution_count": 65,
     "metadata": {},
     "output_type": "execute_result"
    }
   ],
   "source": [
    "df_comment.size"
   ]
  }
 ],
 "metadata": {
  "kernelspec": {
   "display_name": "AIDating",
   "language": "python",
   "name": "python3"
  },
  "language_info": {
   "codemirror_mode": {
    "name": "ipython",
    "version": 3
   },
   "file_extension": ".py",
   "mimetype": "text/x-python",
   "name": "python",
   "nbconvert_exporter": "python",
   "pygments_lexer": "ipython3",
   "version": "3.9.6"
  }
 },
 "nbformat": 4,
 "nbformat_minor": 2
}
